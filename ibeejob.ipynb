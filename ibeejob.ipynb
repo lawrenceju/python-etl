{
 "cells": [
  {
   "cell_type": "code",
   "execution_count": 13,
   "metadata": {
    "collapsed": true
   },
   "outputs": [],
   "source": [
    "import requests     \n",
    "from bs4 import BeautifulSoup as bs"
   ]
  },
  {
   "cell_type": "markdown",
   "metadata": {},
   "source": [
    "### 試爬頁面url"
   ]
  },
  {
   "cell_type": "code",
   "execution_count": 14,
   "metadata": {
    "collapsed": false,
    "scrolled": true
   },
   "outputs": [
    {
     "name": "stdout",
     "output_type": "stream",
     "text": [
      "http://ibeejobs.com/2_salarydetail.php?11\n",
      "http://ibeejobs.com/2_salarydetail.php?2\n",
      "http://ibeejobs.com/2_salarydetail.php?360\n",
      "http://ibeejobs.com/2_salarydetail.php?267\n",
      "http://ibeejobs.com/2_salarydetail.php?5\n",
      "http://ibeejobs.com/2_salarydetail.php?35\n",
      "http://ibeejobs.com/2_salarydetail.php?6\n"
     ]
    }
   ],
   "source": [
    "homepage = 'http://ibeejobs.com/2_salaryoverview.php?sortcmd=0&page=1'\n",
    "headers = {\n",
    "'Cookie':'__utma=104722008.848925290.1457421039.1458266468.1458270989.21; __utmc=104722008; __utmz=104722008.1457504496.2.2.utmcsr=google|utmccn=(organic)|utmcmd=organic|utmctr=(not%20provided); PHPSESSID=f0d56e94993688532fbe6d0948158683; pettabs=0',\n",
    "'Host':'ibeejobs.com',\n",
    "'Referer':'http://ibeejobs.com/2_salarydetail.php?11',\n",
    "'Upgrade-Insecure-Requests':'1',\n",
    "'User-Agent':'Mozilla/5.0 (Windows NT 6.1; WOW64) AppleWebKit/537.36 (KHTML, like Gecko) Chrome/49.0.2623.87 Safari/537.36',\n",
    "}\n",
    "rs = requests.session() \n",
    "res2 = rs.get(homepage, headers = headers)\n",
    "soup2 = bs(res2.text)\n",
    "div1 = soup2.select('.pad-company')\n",
    "for tr in div1:\n",
    "    print 'http://ibeejobs.com' + tr.select('a')[0]['href']"
   ]
  },
  {
   "cell_type": "markdown",
   "metadata": {},
   "source": [
    "### 試爬頁面資訊"
   ]
  },
  {
   "cell_type": "code",
   "execution_count": 15,
   "metadata": {
    "collapsed": false,
    "scrolled": true
   },
   "outputs": [
    {
     "name": "stdout",
     "output_type": "stream",
     "text": [
      "CAD工程師 52萬8千 4.0 49萬 55萬\n",
      "RF工程師 54萬0千 5.0 50萬 57萬\n",
      "光學工程師 94萬0千 6.0 88萬 99萬\n",
      "助理工程師 55萬4千 5.6 24萬 145萬\n",
      "半導體工程師 89萬5千 4.7 36萬 456萬\n",
      "客服工程師 55萬2千 5.0 51萬 58萬\n",
      "專案工程師 104萬 5.0 104萬 117萬\n",
      "工程師 92萬1千 5.0 30萬 562萬\n",
      "工程部主管 111萬 7.0 111萬 126萬\n",
      "數位IC設計工程師 74萬4千 6.5 42萬 129萬\n",
      "測試工程師 59萬9千 4.0 47萬 70萬\n",
      "秘書 76萬1千 4.0 48萬 104萬\n",
      "經理 72萬 7.7 72萬 385萬\n",
      "行政助理 30萬3千 8.0 28萬 32萬\n",
      "製程工程師 86萬1千 4.1 46萬 279萬\n",
      "軟體工程師 69萬1千 5.5 42萬 131萬\n",
      "RD工程師 85萬1千 4.7 46萬 346萬\n",
      "PM 53萬4千 6.0 50萬 56萬\n",
      "硬體工程師 162萬 7.0 162萬 309萬\n",
      "資深工程師 45萬 5.3 45萬 396萬\n",
      "高級工程師 36萬 2.8 36萬 247萬\n",
      "主任工程師 63萬 5.4 63萬 486萬\n",
      "管理師 93萬7千 5.3 41萬 173萬\n",
      "資深RD工程師 66萬1千 7.0 62萬 70萬\n",
      "研發工程師 55萬 4.5 55萬 189萬\n",
      "實習生 28萬0千 8.7 24萬 30萬\n",
      "QA工程師 53萬7千 1.0 50萬 56萬\n",
      "Project Supervisor 132萬 4.0 132萬 149萬\n",
      "品質測試 36萬1千 8.0 33萬 38萬\n",
      "設備工程師 81萬6千 4.2 39萬 586萬\n",
      "課長 385萬 7.0 385萬 434萬\n",
      "PIE 47萬 6.6 47萬 3744萬\n",
      "製造課長 90萬6千 3.5 46萬 236萬\n",
      "系統工程師 104萬 5.0 104萬 118萬\n",
      "副理 84萬 5.3 84萬 594萬\n",
      "作業員 62萬0千 6.0 58萬 65萬\n",
      "技術人員 32萬8千 3.7 21萬 50萬\n",
      "產品工程師 46萬 5.3 46萬 165萬\n",
      "電子工程師 46萬8千 1.0 44萬 49萬\n",
      "業務工程師 58萬4千 6.0 54萬 61萬\n",
      "暑期工讀生 24萬0千 8.0 22萬 25萬\n",
      "製程整合工程師 97萬1千 5.3 46萬 277萬\n",
      "行政官員 343萬 6.0 343萬 387萬\n",
      "奈米技術工程師 46萬8千 3.0 43萬 49萬\n",
      "財務會計 135萬 7.0 135萬 152萬\n",
      "軟體RD工程師 112萬 8.0 112萬 127萬\n",
      "IE工程師 53萬0千 4.0 49萬 56萬\n",
      "資深管理師 122萬 5.0 122萬 138萬\n",
      "暑期實習生 28萬8千 7.5 25萬 30萬\n",
      "實習工程師 27萬0千 6.0 25萬 28萬\n",
      "助理設備工程師 36萬5千 4.0 32萬 40萬\n",
      "蝕刻工程師 56萬8千 2.0 53萬 60萬\n",
      "工業工程師 62萬2千 7.0 50萬 73萬\n",
      "科員 48萬0千 7.0 45萬 50萬\n",
      "廠務工程師 63萬 6.0 63萬 146萬\n",
      "IT工程師 99萬7千 4.5 48萬 146萬\n",
      "整合工程師 79萬9千 5.0 53萬 106萬\n",
      "測試員 26萬4千 8.0 24萬 27萬\n",
      "生管人員 109萬 4.0 109萬 122萬\n",
      "企劃專員 48萬0千 6.0 45萬 50萬\n",
      "專案副理 272萬 7.0 272萬 307萬\n",
      "製程助理工程師 50萬4千 6.0 47萬 53萬\n",
      "奈米技術整合工程師 62萬7千 3.0 59萬 66萬\n",
      "Supervisor 94萬8千 8.0 89萬 100萬\n",
      "研發製程工程師 116萬 7.0 116萬 131萬\n",
      "F/W工程師 54萬 4.5 54萬 212萬\n",
      "資深經理 487萬 2.0 487萬 549萬\n",
      "ETE 31萬0千 3.0 29萬 32萬\n",
      "資訊助理 58萬9千 6.0 55萬 62萬\n",
      "半導體製程工程師 85萬3千 5.8 53萬 130萬\n",
      "資訊工程師 68萬4千 5.5 52萬 84萬\n",
      "人資助理 37萬8千 8.0 35萬 40萬\n",
      "技術員 47萬6千 3.3 28萬 90萬\n",
      "蝕刻製程工程師 72萬7千 5.0 53萬 91萬\n",
      "初級查帳員 42萬6千 5.0 40萬 45萬\n",
      "擴散製程工程師 61萬7千 3.0 58萬 65萬\n",
      "帶線課長 63萬5千 5.3 53萬 82萬\n",
      "測試產品工程師 91萬9千 3.0 86萬 97萬\n",
      "PID工程師 53萬7千 10.0 50萬 56萬\n",
      "設備助理工程師 49萬3千 4.0 36萬 62萬\n",
      "PE工程師 85萬6千 3.9 53萬 132萬\n",
      "計時人員 94萬 3.0 94萬 106萬\n",
      "EE工程師 85萬4千 4.4 53萬 220萬\n",
      "良率提昇工程師 102萬 2.0 102萬 115萬\n",
      "資深設備工程師 113萬 3.0 113萬 127萬\n",
      "生產技術製程工程師 54萬6千 6.0 51萬 57萬\n",
      "產線線長 127萬 5.0 127萬 144萬\n",
      "製程開發工程師 95萬 4.0 95萬 107萬\n",
      "設備副工程師 91萬2千 5.0 85萬 96萬\n",
      "黃光設備工程師 66萬 6.5 66萬 140萬\n",
      "帶線主任 65萬4千 3.0 61萬 69萬\n",
      "薪資福利管理師實習生 14萬4千 9.0 13萬 15萬\n",
      "硬體DL 46萬3千 5.0 43萬 49萬\n",
      "首席工程師 148萬 8.5 148萬 175萬\n",
      "工程師助理 36萬9千 4.0 34萬 39萬\n",
      "RDPC 123萬 4.0 123萬 138萬\n",
      "資深IT工程師 94萬 6.0 94萬 106萬\n",
      "OPC 118萬 5.0 118萬 133萬\n",
      "資訊工程助理 38萬9千 7.0 36萬 41萬\n",
      "生產管理工程師 110萬 5.0 110萬 124萬\n",
      "31G工程師 97萬 10.0 97萬 109萬\n"
     ]
    }
   ],
   "source": [
    "url = 'http://ibeejobs.com/2_salarydetail.php?2'\n",
    "headers2 = {\n",
    "'Cookie':'__utma=104722008.848925290.1457421039.1458266468.1458270989.21; __utmc=104722008; __utmz=104722008.1457504496.2.2.utmcsr=google|utmccn=(organic)|utmcmd=organic|utmctr=(not%20provided); PHPSESSID=f0d56e94993688532fbe6d0948158683; pettabs=0',\n",
    "'Host':'ibeejobs.com',\n",
    "'Referer':'http://ibeejobs.com/2_salaryoverview.php?sortcmd=0&page=1',\n",
    "'Upgrade-Insecure-Requests':'1',\n",
    "'User-Agent':'Mozilla/5.0 (Windows NT 6.1; WOW64) AppleWebKit/537.36 (KHTML, like Gecko) Chrome/49.0.2623.87 Safari/537.36',\n",
    "}\n",
    "res = rs.get(url, headers = headers2)\n",
    "soup = bs(res.text.encode('latin-1'))\n",
    "div = soup.select('#sotable tr')[22:-7]\n",
    "for tr in div:\n",
    "    if len(tr.select('.graytxt a')) > 0:\n",
    "        print tr.select('.graytxt a')[0].text, tr.select('span')[0].text, tr.select('td')[6].text.strip(),\\\n",
    "                tr.select('.whitebold')[1].text,  tr.select('.whitebold')[2].text"
   ]
  },
  {
   "cell_type": "markdown",
   "metadata": {},
   "source": [
    "###  把各頁面url存下來在一個wordpad"
   ]
  },
  {
   "cell_type": "code",
   "execution_count": 3,
   "metadata": {
    "collapsed": false
   },
   "outputs": [],
   "source": [
    "urlformat = 'http://www.ibeejobs.com/2_salaryoverview.php?sortcmd=0&page={}'\n",
    "page_number = 1300\n",
    "with open('ibeejobs_list0318.txt' , 'w') as f:\n",
    "    for page in xrange(page_number):\n",
    "        pageurl = urlformat.format(page)\n",
    "        res2 = rs.get(pageurl, headers = headers)\n",
    "        soup2 = bs(res2.text)\n",
    "        div1 = soup2.select('.pad-company')\n",
    "        for tr in div1:\n",
    "                try:\n",
    "                    f.write('http://ibeejobs.com' + tr.select('a')[0]['href'] + '\\n')\n",
    "                except:\n",
    "                    continue"
   ]
  },
  {
   "cell_type": "markdown",
   "metadata": {
    "collapsed": true
   },
   "source": [
    "### 爬取頁面資訊"
   ]
  },
  {
   "cell_type": "code",
   "execution_count": 16,
   "metadata": {
    "collapsed": false
   },
   "outputs": [],
   "source": [
    "import os\n",
    "import random\n",
    "from time import sleep\n",
    "if not os.path.exists('ibeejobcompany0318'):\n",
    "    os.makedirs('ibeejobcompany0318')\n",
    "headers2 = {\n",
    "'Cookie':'__utma=104722008.848925290.1457421039.1458266468.1458270989.21; __utmc=104722008; __utmz=104722008.1457504496.2.2.utmcsr=google|utmccn=(organic)|utmcmd=organic|utmctr=(not%20provided); PHPSESSID=f0d56e94993688532fbe6d0948158683; pettabs=0',\n",
    "'Host':'ibeejobs.com',\n",
    "'Referer':'http://ibeejobs.com/2_salaryoverview.php?sortcmd=0&page=1',\n",
    "'Upgrade-Insecure-Requests':'1',\n",
    "'User-Agent':'Mozilla/5.0 (Windows NT 6.1; WOW64) AppleWebKit/537.36 (KHTML, like Gecko) Chrome/49.0.2623.87 Safari/537.36',\n",
    "}\n",
    "with open('ibeejobs_list031801.txt', 'r') as f:\n",
    "    for url in f.readlines():\n",
    "        rearstr = url.strip().split('php?')[1]\n",
    "        filename = 'ibeejobcompany0318/{}.txt'.format(rearstr)\n",
    "        with open(filename, 'w') as f2:\n",
    "            res = rs.get(url.strip(), headers = headers2)\n",
    "            soup = bs(res.text.encode('latin-1'))\n",
    "            div = soup.select('#sotable tr')[22:-7]\n",
    "            try:\n",
    "                for tr in div:\n",
    "                    if len(tr.select('.graytxt a')) > 0:     \n",
    "                        f2.write(soup.select('#sotable a')[0].text.strip().split('(')[0].encode('utf-8')+' '+\\\n",
    "                                 tr.select('.graytxt a')[0].text.encode('utf-8')+' '+\\\n",
    "                                 tr.select('span')[0].text.encode('utf-8')+' '+\\\n",
    "                                 tr.select('td')[6].text.strip().encode('utf-8')+' '+\\\n",
    "                                 tr.select('.whitebold')[1].text.encode('utf-8')+' '+\\\n",
    "                                 tr.select('.whitebold')[2].text.encode('utf-8')+'\\n')\n",
    "            except:\n",
    "                continue"
   ]
  },
  {
   "cell_type": "code",
   "execution_count": 126,
   "metadata": {
    "collapsed": false,
    "scrolled": true
   },
   "outputs": [
    {
     "name": "stdout",
     "output_type": "stream",
     "text": [
      "台北榮民總醫院\n"
     ]
    }
   ],
   "source": [
    "url = 'http://ibeejobs.com/2_salarydetail.php?299'\n",
    "headers2 = {\n",
    "'Cookie':'__utma=104722008.848925290.1457421039.1457962782.1457966397.19; __utmz=104722008.1457504496.2.2.utmcsr=google|utmccn=(organic)|utmcmd=organic|utmctr=(not%20provided); PHPSESSID=76008ef0614621f1d44352aa42c1a89b; pettabs=0',\n",
    "'Host':'ibeejobs.com',\n",
    "'Referer':'http://ibeejobs.com/2_salaryoverview.php?sortcmd=0&page=3',\n",
    "'Upgrade-Insecure-Requests':'1',\n",
    "'User-Agent':'Mozilla/5.0 (Windows NT 6.1; WOW64) AppleWebKit/537.36 (KHTML, like Gecko) Chrome/49.0.2623.87 Safari/537.36',\n",
    "}\n",
    "res = rs.get(url, headers = headers2)\n",
    "soup = bs(res.text.encode('latin-1'))\n",
    "div = soup.select('#sotable tr')[22:-7]\n",
    "print soup.select('#sotable a')[0].text.strip().split('(')[0]"
   ]
  },
  {
   "cell_type": "code",
   "execution_count": null,
   "metadata": {
    "collapsed": true
   },
   "outputs": [],
   "source": []
  }
 ],
 "metadata": {
  "kernelspec": {
   "display_name": "Python 2",
   "language": "python",
   "name": "python2"
  },
  "language_info": {
   "codemirror_mode": {
    "name": "ipython",
    "version": 2
   },
   "file_extension": ".py",
   "mimetype": "text/x-python",
   "name": "python",
   "nbconvert_exporter": "python",
   "pygments_lexer": "ipython2",
   "version": "2.7.11"
  }
 },
 "nbformat": 4,
 "nbformat_minor": 0
}
