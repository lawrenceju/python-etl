{
 "cells": [
  {
   "cell_type": "code",
   "execution_count": 1,
   "metadata": {
    "collapsed": true
   },
   "outputs": [],
   "source": [
    "import requests     \n",
    "from bs4 import BeautifulSoup as bs"
   ]
  },
  {
   "cell_type": "code",
   "execution_count": 18,
   "metadata": {
    "collapsed": false
   },
   "outputs": [
    {
     "name": "stdout",
     "output_type": "stream",
     "text": [
      "高雄捷運股份有限公司 客服人員 28800 0 ~ 1年 1 / 0\n",
      "財團法人台灣綜合研究院 高級助理研究員 40000 2 ~ 3年 2 / 0\n",
      "捷喜多 社群行銷 上一份薪資+10% 0 ~ 1年 19 / 7\n",
      "御璽閣國際貿易有限公司 業務助理 24000～2800 0 ~ 1年 2 / 0\n",
      "聯準行銷顧問股份有限公司 秘書 25000 0 ~ 1年 2 / 0\n",
      "聯準行銷 資料分析師 22000 2 ~ 3年 5 / 0\n",
      "源進實業 業務助理 28200 0 ~ 1年 2 / 0\n",
      "尚青雲端整合行銷 平面設計 25000 4 ~ 5年 1409 / 974\n",
      "Mr.6 業務助理 22,000 2 ~ 3年 6 / 3\n",
      "生物技術開發中心 副研究員 39100 0 ~ 1年 4 / 1\n",
      "十藝生技股份有限公司 美編企劃 30k-35k 2 ~ 3年 5 / 2\n",
      "十藝生技股份有限公司 主辦會計 45000 4 ~ 5年 19 / 4\n",
      "上銀科技 技術佐理 25200 2 ~ 3年 2 / 0\n",
      "金瑞瑩工業股份有限公司 行政助理-品牌 26000(試用期) 2 ~ 3年 14 / 2\n",
      "台北捷運公司 電子技術人員 扣勞健保拿33000 2 ~ 3年 6 / 0\n",
      "商智商務諮詢股份有限公司 業務 28000 0 ~ 1年 14 / 4\n",
      "英美菸草 資訊部副理 80000 8 ~ 9年 21 / 5\n",
      "ym海運 副理 80000 18~19年 2 / 0\n",
      "三明精機 機械裝配工 26000 0 ~ 1年 27 / 2\n",
      "友達光電(AUO) 高級工程師(A4) 48600 2 ~ 3年 657 / 4\n"
     ]
    }
   ],
   "source": [
    "url = 'http://www.ursalary.com/search.php?&p=0'\n",
    "headers = {'User-Agent':'Mozilla/5.0 (Windows NT 6.1; WOW64) AppleWebKit/537.36 (KHTML, like Gecko) Chrome/48.0.2564.116 Safari/537.36'}\n",
    "\n",
    "rs = requests.session()  #用rs存取第一面的資料\n",
    "\n",
    "res = rs.get(url, headers = headers)\n",
    "soup = bs(res.text.encode('latin-1'))\n",
    "for entry in soup.select('table.table-striped.table-bordered tr')[1:]:\n",
    "    try: \n",
    "        print entry.select('a')[0].text, entry.select('a')[1].text,entry.select('a')[2].text,\\\n",
    "                entry.select('a')[3].text,entry.select('a')[4].text\n",
    "    except:\n",
    "            continue"
   ]
  },
  {
   "cell_type": "code",
   "execution_count": 20,
   "metadata": {
    "collapsed": false
   },
   "outputs": [],
   "source": [
    "urlformat = 'http://www.ursalary.com/search.php?&p={}'\n",
    "page_number = 5\n",
    "with open('ursalarycompany_list.txt' , 'w') as f:\n",
    "    for page in xrange(page_number):\n",
    "        pageurl = urlformat.format(page)\n",
    "        res2 = rs.get(pageurl, headers = headers)    \n",
    "        soup2 = bs(res2.text.encode('latin-1'))\n",
    "        for entry in soup2.select('table.table-striped.table-bordered tr')[1:]:\n",
    "            try:\n",
    "                f.write(entry.select('a')[0].text.encode('utf-8') + ',' + entry.select('a')[1].text.encode('utf-8') + ',' +\\\n",
    "                        entry.select('a')[2].text.encode('utf-8') + ',' + entry.select('a')[3].text.encode('utf-8') +\\\n",
    "                        ',' + entry.select('a')[4].text.encode('utf-8') + '\\n')\n",
    "            except:\n",
    "                continue"
   ]
  },
  {
   "cell_type": "code",
   "execution_count": 5,
   "metadata": {
    "collapsed": false,
    "scrolled": false
   },
   "outputs": [
    {
     "ename": "IndentationError",
     "evalue": "expected an indented block (<ipython-input-5-0e4219978274>, line 9)",
     "output_type": "error",
     "traceback": [
      "\u001b[1;36m  File \u001b[1;32m\"<ipython-input-5-0e4219978274>\"\u001b[1;36m, line \u001b[1;32m9\u001b[0m\n\u001b[1;33m    \u001b[0m\n\u001b[1;37m    ^\u001b[0m\n\u001b[1;31mIndentationError\u001b[0m\u001b[1;31m:\u001b[0m expected an indented block\n"
     ]
    }
   ],
   "source": [
    "import os\n",
    "if not os.path.exists('companycontent'):\n",
    "    os.makedirs('companycontent')\n",
    "with open('ursalary_list.txt', 'r') as f:\n",
    "    for url in f.readlines():\n",
    "        rearstr = url.strip().split('id=')[1]\n",
    "        filename = 'companycontent/{}.txt'.format(rearstr)\n",
    "        with open(filename, 'w') as f2:\n",
    "        res = requests.get(url.strip(), headers = headers)\n",
    "        soup = bs(res.text.encode('latin-1'))\n",
    "        div = soup.select('.detail-list')  #len(soup.select('.detail-list li')[9].text)\n",
    "        for x in div:\n",
    "            f.write(x.text)"
   ]
  },
  {
   "cell_type": "code",
   "execution_count": null,
   "metadata": {
    "collapsed": false
   },
   "outputs": [],
   "source": []
  },
  {
   "cell_type": "code",
   "execution_count": 48,
   "metadata": {
    "collapsed": false
   },
   "outputs": [
    {
     "name": "stdout",
     "output_type": "stream",
     "text": [
      "公司: 尚青雲端整合行銷\n",
      "公司: 尚青雲端整合行銷職稱: 平面設計\n",
      "公司: 尚青雲端整合行銷職稱: 平面設計薪資: 25000\n",
      "公司: 尚青雲端整合行銷職稱: 平面設計薪資: 25000上班地點: 南部\n",
      "公司: 尚青雲端整合行銷職稱: 平面設計薪資: 25000上班地點: 南部學歷: 大學畢業\n",
      "公司: 尚青雲端整合行銷職稱: 平面設計薪資: 25000上班地點: 南部學歷: 大學畢業相關經驗: 4 ~ 5年\n",
      "公司: 尚青雲端整合行銷職稱: 平面設計薪資: 25000上班地點: 南部學歷: 大學畢業相關經驗: 4 ~ 5年學校與科系: \n",
      "公司: 尚青雲端整合行銷職稱: 平面設計薪資: 25000上班地點: 南部學歷: 大學畢業相關經驗: 4 ~ 5年學校與科系: 面談日期: 2016/1\n",
      "公司: 尚青雲端整合行銷職稱: 平面設計薪資: 25000上班地點: 南部學歷: 大學畢業相關經驗: 4 ~ 5年學校與科系: 面談日期: 2016/1其他資訊: 薪水:25000(含3K全勤)\r\n",
      "上班時間:830~1800(午休1.5小時)\r\n",
      "獎金:設計部門沒有\r\n",
      "內容:主要幫客戶處理app上架的圖片,還有支援一些活動文宣,感覺工作很單純\r\n",
      "面試心得:公司有兩層樓，6樓辦公室已經擺滿，就是辦公桌排排站，沒有隔間覺得座位非常擁擠，公司年輕人居多，不時有人走來走去或是就定點開會。有3張表給你填:1.基本資料2.性向測驗3.網路知識(愛鳳作業系統是哪個之類的)，之後會上機考,測驗1小時，給文案要你做活動海報(使用ai)，沒有提供照片圖，如果需要自己上網抓。因為我沒筆電所以使用他提供的電腦，但我想修圖的時候卻找不到PS...面試是跟另外兩個人一起面試，周休二日遇紅不放，據說是為了要拼2017上市，公司說不會加班最晚７點會趕人，所以也不會有加班費。制服押金750過試用(3個月)會還你，沒過就沒了。然後要先自備筆電，因為公司正在擴編所以暫無設備。每個月從薪水扣200元當於員工急難金，然後薪水他也沒有要跟你分開談，直接就跟大家說25000(含全勤3000)所以實際就是22K，過試用再調整。基本上有請假全勤就掰掰了，若是請病假3天內有給薪。喔對了，設計部有10幾人算多\n",
      "公司: 尚青雲端整合行銷職稱: 平面設計薪資: 25000上班地點: 南部學歷: 大學畢業相關經驗: 4 ~ 5年學校與科系: 面談日期: 2016/1其他資訊: 薪水:25000(含3K全勤)\r\n",
      "上班時間:830~1800(午休1.5小時)\r\n",
      "獎金:設計部門沒有\r\n",
      "內容:主要幫客戶處理app上架的圖片,還有支援一些活動文宣,感覺工作很單純\r\n",
      "面試心得:公司有兩層樓，6樓辦公室已經擺滿，就是辦公桌排排站，沒有隔間覺得座位非常擁擠，公司年輕人居多，不時有人走來走去或是就定點開會。有3張表給你填:1.基本資料2.性向測驗3.網路知識(愛鳳作業系統是哪個之類的)，之後會上機考,測驗1小時，給文案要你做活動海報(使用ai)，沒有提供照片圖，如果需要自己上網抓。因為我沒筆電所以使用他提供的電腦，但我想修圖的時候卻找不到PS...面試是跟另外兩個人一起面試，周休二日遇紅不放，據說是為了要拼2017上市，公司說不會加班最晚７點會趕人，所以也不會有加班費。制服押金750過試用(3個月)會還你，沒過就沒了。然後要先自備筆電，因為公司正在擴編所以暫無設備。每個月從薪水扣200元當於員工急難金，然後薪水他也沒有要跟你分開談，直接就跟大家說25000(含全勤3000)所以實際就是22K，過試用再調整。基本上有請假全勤就掰掰了，若是請病假3天內有給薪。喔對了，設計部有10幾人算多 最後編輯於 2016-01-15\n",
      "公司: 尚青雲端整合行銷職稱: 平面設計薪資: 25000上班地點: 南部學歷: 大學畢業相關經驗: 4 ~ 5年學校與科系: 面談日期: 2016/1其他資訊: 薪水:25000(含3K全勤)\r\n",
      "上班時間:830~1800(午休1.5小時)\r\n",
      "獎金:設計部門沒有\r\n",
      "內容:主要幫客戶處理app上架的圖片,還有支援一些活動文宣,感覺工作很單純\r\n",
      "面試心得:公司有兩層樓，6樓辦公室已經擺滿，就是辦公桌排排站，沒有隔間覺得座位非常擁擠，公司年輕人居多，不時有人走來走去或是就定點開會。有3張表給你填:1.基本資料2.性向測驗3.網路知識(愛鳳作業系統是哪個之類的)，之後會上機考,測驗1小時，給文案要你做活動海報(使用ai)，沒有提供照片圖，如果需要自己上網抓。因為我沒筆電所以使用他提供的電腦，但我想修圖的時候卻找不到PS...面試是跟另外兩個人一起面試，周休二日遇紅不放，據說是為了要拼2017上市，公司說不會加班最晚７點會趕人，所以也不會有加班費。制服押金750過試用(3個月)會還你，沒過就沒了。然後要先自備筆電，因為公司正在擴編所以暫無設備。每個月從薪水扣200元當於員工急難金，然後薪水他也沒有要跟你分開談，直接就跟大家說25000(含全勤3000)所以實際就是22K，過試用再調整。基本上有請假全勤就掰掰了，若是請病假3天內有給薪。喔對了，設計部有10幾人算多 最後編輯於 2016-01-15\n"
     ]
    }
   ],
   "source": [
    "content = 'http://www.ursalary.com/detail.php?id=30275'\n",
    "res = requests.get(content)\n",
    "soup = bs(res.text.encode('latin-1'))\n",
    "div = soup.select('.detail-list li')[1:]  #len(soup.select('.detail-list li')[9].textprint )\n",
    "string = \"\"\n",
    "for i in xrange(len(div)):\n",
    "    string += div[i].text\n",
    "    print string\n",
    "\n",
    "\n",
    "#y=\"\"\n",
    "#for x in xrange(len(div)):\n",
    "    #y += x.text\n",
    "    #print y\n",
    "#div1 = soup.select('.span12')[1]\n",
    "#if len(div1) > 4:\n",
    "    #print div1.text"
   ]
  },
  {
   "cell_type": "code",
   "execution_count": null,
   "metadata": {
    "collapsed": true
   },
   "outputs": [],
   "source": []
  }
 ],
 "metadata": {
  "kernelspec": {
   "display_name": "Python 2",
   "language": "python",
   "name": "python2"
  },
  "language_info": {
   "codemirror_mode": {
    "name": "ipython",
    "version": 2
   },
   "file_extension": ".py",
   "mimetype": "text/x-python",
   "name": "python",
   "nbconvert_exporter": "python",
   "pygments_lexer": "ipython2",
   "version": "2.7.11"
  }
 },
 "nbformat": 4,
 "nbformat_minor": 0
}
