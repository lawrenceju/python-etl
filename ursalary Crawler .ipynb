{
 "cells": [
  {
   "cell_type": "code",
   "execution_count": 2,
   "metadata": {
    "collapsed": true
   },
   "outputs": [],
   "source": [
    "import requests     \n",
    "from bs4 import BeautifulSoup as bs"
   ]
  },
  {
   "cell_type": "markdown",
   "metadata": {},
   "source": [
    "### 試爬頁面資訊"
   ]
  },
  {
   "cell_type": "code",
   "execution_count": 3,
   "metadata": {
    "collapsed": false
   },
   "outputs": [
    {
     "name": "stdout",
     "output_type": "stream",
     "text": [
      "日商千住金屬 業務人員 33000 0 ~ 1年 10 / 3\n",
      "北港客運香菇肉羹 員工 35000 4 ~ 5年 19 / 1\n",
      "晶元實業 業務助理 24000 0 ~ 1年 16 / 7\n",
      "順捷股份有限公司 倉管 約28000 0 ~ 1年 388 / 1\n",
      "華騏生醫科技有限公司 美工/平面美術設計 23000 4 ~ 5年 4 / 1\n",
      "卡塔摩納貿易有限公司 總務行政 本薪22000 0 ~ 1年 438 / 4\n",
      "購明系雲科技股份有限公司 資訊企劃專員 未知 0 ~ 1年 8 / 1\n",
      "欣南、欣雄、欣彰、欣桃天然氣(同老闆) 櫃台行政 22000 0 ~ 1年 19 / 1\n",
      "麵包星 門市人員 15600 2 ~ 3年 2 / 0\n",
      "獅馬國際科技有限公司 會計 25000 4 ~ 5年 17 / 2\n",
      "神達電腦 高級工程師，職等9 58000 8 ~ 9年 6 / 2\n",
      "香港商栢能科技有限公司台灣辦事處 軟體工程師 65000 8 ~ 9年 28 / 16\n",
      "譯通通信器材有限公司 行銷助理 22000 2 ~ 3年 2 / 0\n",
      "工研院 副研究員 54000 4 ~ 5年 4 / 0\n",
      "臺大智活 專案助理 50000 6 ~ 7年 167 / 0\n",
      "台日古河銅箔股份有限公司 製程助理工程師 34000 0 ~ 1年 15 / 1\n",
      "生態綠股份有限公司(僅面試 視覺設計師 35K-45K(? 4 ~ 5年 5 / 1\n",
      "愛爾達科技 程式開發部-資深工程師(PHP) 55000 8 ~ 9年 2 / 0\n",
      "艾菲爾企業有限公司 行政人員 25000 0 ~ 1年 2 / 0\n",
      "長禹工業股份有限公司 業務助理 22K(試用期) 0 ~ 1年 16 / 1\n"
     ]
    },
    {
     "name": "stderr",
     "output_type": "stream",
     "text": [
      "C:\\Users\\BIG DATA\\Anaconda2\\lib\\site-packages\\bs4\\__init__.py:166: UserWarning: No parser was explicitly specified, so I'm using the best available HTML parser for this system (\"lxml\"). This usually isn't a problem, but if you run this code on another system, or in a different virtual environment, it may use a different parser and behave differently.\n",
      "\n",
      "To get rid of this warning, change this:\n",
      "\n",
      " BeautifulSoup([your markup])\n",
      "\n",
      "to this:\n",
      "\n",
      " BeautifulSoup([your markup], \"lxml\")\n",
      "\n",
      "  markup_type=markup_type))\n"
     ]
    }
   ],
   "source": [
    "url = 'http://www.ursalary.com/search.php?&p=0'\n",
    "headers = {'User-Agent':'Mozilla/5.0 (Windows NT 6.1; WOW64) AppleWebKit/537.36 (KHTML, like Gecko) Chrome/48.0.2564.116 Safari/537.36'}\n",
    "\n",
    "rs = requests.session()  #用rs存取第一面的資料\n",
    "\n",
    "res = rs.get(url, headers = headers)\n",
    "soup = bs(res.text.encode('latin-1'))\n",
    "for entry in soup.select('table.table-striped.table-bordered tr')[1:]:\n",
    "    try: \n",
    "        print entry.select('a')[0].text, entry.select('a')[1].text,entry.select('a')[2].text,\\\n",
    "                entry.select('a')[3].text,entry.select('a')[4].text\n",
    "    except:\n",
    "            continue"
   ]
  },
  {
   "cell_type": "markdown",
   "metadata": {
    "collapsed": true
   },
   "source": [
    "### 爬取頁面資訊"
   ]
  },
  {
   "cell_type": "code",
   "execution_count": 4,
   "metadata": {
    "collapsed": false
   },
   "outputs": [],
   "source": [
    "urlformat = 'http://www.ursalary.com/search.php?&p={}'\n",
    "page_number = 1300\n",
    "with open('ursalarycompany_list.txt' , 'w') as f:\n",
    "    for page in xrange(page_number):\n",
    "        pageurl = urlformat.format(page)\n",
    "        res2 = rs.get(pageurl, headers = headers)\n",
    "        soup2 = bs(res2.text.encode('latin-1'))\n",
    "        for entry in soup2.select('table.table-striped.table-bordered tr')[1:]:\n",
    "            try:\n",
    "                f.write(entry.select('a')[0].text.encode('utf-8') + '!' + entry.select('a')[1].text.encode('utf-8') + '!' +\\\n",
    "                        entry.select('a')[2].text.encode('utf-8') + '!' + entry.select('a')[3].text.encode('utf-8') +\\\n",
    "                        '!' + entry.select('a')[4].text.encode('utf-8') + '\\n')\n",
    "            except:\n",
    "                continue\n",
    "f.close()            "
   ]
  },
  {
   "cell_type": "markdown",
   "metadata": {
    "collapsed": false
   },
   "source": [
    "### 爬取公司內頁文章"
   ]
  },
  {
   "cell_type": "code",
   "execution_count": 4,
   "metadata": {
    "collapsed": false
   },
   "outputs": [
    {
     "name": "stdout",
     "output_type": "stream",
     "text": [
      "公司: 尚青雲端整合行銷職稱: 平面設計薪資: 25000上班地點: 南部學歷: 大學畢業相關經驗: 4 ~ 5年學校與科系:面談日期: 2016/1其他資訊: 薪水:25000(含3K全勤)\r\n",
      "上班時間:830~1800(午休1.5小時)\r\n",
      "獎金:設計部門沒有\r\n",
      "內容:主要幫客戶處理app上架的圖片,還有支援一些活動文宣,感覺工作很單純\r\n",
      "面試心得:公司有兩層樓，6樓辦公室已經擺滿，就是辦公桌排排站，沒有隔間覺得座位非常擁擠，公司年輕人居多，不時有人走來走去或是就定點開會。有3張表給你填:1.基本資料2.性向測驗3.網路知識(愛鳳作業系統是哪個之類的)，之後會上機考,測驗1小時，給文案要你做活動海報(使用ai)，沒有提供照片圖，如果需要自己上網抓。因為我沒筆電所以使用他提供的電腦，但我想修圖的時候卻找不到PS...面試是跟另外兩個人一起面試，周休二日遇紅不放，據說是為了要拼2017上市，公司說不會加班最晚７點會趕人，所以也不會有加班費。制服押金750過試用(3個月)會還你，沒過就沒了。然後要先自備筆電，因為公司正在擴編所以暫無設備。每個月從薪水扣200元當於員工急難金，然後薪水他也沒有要跟你分開談，直接就跟大家說25000(含全勤3000)所以實際就是22K，過試用再調整。基本上有請假全勤就掰掰了，若是請病假3天內有給薪。喔對了，設計部有10幾人算多最後編輯於 2016-01-15\n"
     ]
    }
   ],
   "source": [
    "content = 'http://www.ursalary.com/detail.php?id=30275'\n",
    "res = requests.get(content)\n",
    "soup = bs(res.text.encode('latin-1'))\n",
    "div = soup.select('.detail-list li')[1:]  #len(soup.select('.detail-list li')[9].textprint )\n",
    "string = \"\"\n",
    "for i in xrange(len(div)):\n",
    "    string += div[i].text.strip()\n",
    "print string\n",
    "\n",
    "\n",
    "#y=\"\"\n",
    "#for x in xrange(len(div)):\n",
    "    #y += x.text\n",
    "    #print y\n",
    "#div1 = soup.select('.span12')[1]\n",
    "#if len(div1) > 4:\n",
    "    #print div1.text"
   ]
  },
  {
   "cell_type": "code",
   "execution_count": null,
   "metadata": {
    "collapsed": true
   },
   "outputs": [],
   "source": []
  }
 ],
 "metadata": {
  "kernelspec": {
   "display_name": "Python 2",
   "language": "python",
   "name": "python2"
  },
  "language_info": {
   "codemirror_mode": {
    "name": "ipython",
    "version": 2
   },
   "file_extension": ".py",
   "mimetype": "text/x-python",
   "name": "python",
   "nbconvert_exporter": "python",
   "pygments_lexer": "ipython2",
   "version": "2.7.11"
  }
 },
 "nbformat": 4,
 "nbformat_minor": 0
}
